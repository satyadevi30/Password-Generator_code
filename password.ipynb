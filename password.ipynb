{
 "cells": [
  {
   "cell_type": "code",
   "execution_count": null,
   "id": "98b86cde",
   "metadata": {},
   "outputs": [],
   "source": [
    "import random\n",
    "import string\n",
    "def generate_password(length, uppercase=True, lowercase=True, digits=True, special_chars=True):\n",
    "    characters = \"\"\n",
    "    if uppercase:\n",
    "        characters += string.ascii_uppercase\n",
    "    if lowercase:\n",
    "        characters += string.ascii_lowercase\n",
    "    if digits:\n",
    "        characters += string.digits\n",
    "    if special_chars:\n",
    "        characters += string.punctuation\n",
    "    if not characters:\n",
    "        print(\"Please select at least one character type (uppercase, lowercase, digits, special characters).\")\n",
    "        return\n",
    "    password = ''.join(random.choice(characters) for _ in range(length))\n",
    "    return password\n",
    "def main():\n",
    "    print(\"Password Generator\")\n",
    "    length = int(input(\"Enter the desired password length: \"))\n",
    "    uppercase = input(\"Include uppercase letters (Y/N): \").lower() == 'y'\n",
    "    lowercase = input(\"Include lowercase letters (Y/N): \").lower() == 'y'\n",
    "    digits = input(\"Include digits (Y/N): \").lower() == 'y'\n",
    "    special_chars = input(\"Include special characters (Y/N): \").lower() == 'y'\n",
    "    password = generate_password(length, uppercase, lowercase, digits, special_chars)\n",
    "    if password:\n",
    "        print(f\"Generated Password: {password}\")\n",
    "    else:\n",
    "        print(\"Password generation failed.\")\n",
    "    print(\"Thank you\")\n",
    "if __name__ == \"__main__\":\n",
    "    main()"
   ]
  }
 ],
 "metadata": {
  "kernelspec": {
   "display_name": "Python 3 (ipykernel)",
   "language": "python",
   "name": "python3"
  },
  "language_info": {
   "codemirror_mode": {
    "name": "ipython",
    "version": 3
   },
   "file_extension": ".py",
   "mimetype": "text/x-python",
   "name": "python",
   "nbconvert_exporter": "python",
   "pygments_lexer": "ipython3",
   "version": "3.9.13"
  }
 },
 "nbformat": 4,
 "nbformat_minor": 5
}
